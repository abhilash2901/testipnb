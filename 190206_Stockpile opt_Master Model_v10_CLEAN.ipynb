{
 "cells": [
  {
   "cell_type": "markdown",
   "metadata": {},
   "source": [
    "# Stockpile Optimization Model"
   ]
  },
  {
   "cell_type": "markdown",
   "metadata": {},
   "source": [
    "## Initialize model\n",
    "#### Import libraries"
   ]
  },
  {
   "cell_type": "code",
   "execution_count": 1,
   "metadata": {
    "collapsed": true
   },
   "outputs": [],
   "source": [
    "import pandas as pd\n",
    "import numpy as np\n",
    "%matplotlib inline\n",
    "from matplotlib import pyplot as plt\n",
    "from scipy.optimize import minimize\n",
    "from scipy.optimize import brentq\n",
    "from __future__ import division\n",
    "from collections import deque"
   ]
  },
  {
   "cell_type": "markdown",
   "metadata": {},
   "source": [
    "## Define modeling functions"
   ]
  },
  {
   "cell_type": "markdown",
   "metadata": {},
   "source": [
    "### Import data and create demand-side distribution"
   ]
  },
  {
   "cell_type": "code",
   "execution_count": null,
   "metadata": {
    "collapsed": true
   },
   "outputs": [],
   "source": [
    "def import_freq_distrib(file_name):\n",
    "    \n",
    "    freq_df = pd.read_excel(file_name,skiprows=5)\n",
    "    freq_df.drop([freq_df.columns[0]],axis=1,inplace=True)\n",
    "    freq_df = freq_df.pivot(columns='Year',values='Districts')\n",
    "    freq_df = np.nan_to_num(freq_df, copy=True)\n",
    "\n",
    "    freq_distrib = np.count_nonzero(freq_df,axis=0)\n",
    "    \n",
    "    freq_df_no_zero = freq_df[freq_df != 0]\n",
    "    outbreak_districts_distrib = []\n",
    "    for i in range(len(freq_df_no_zero)):\n",
    "        outbreak_districts_distrib.append(int(freq_df_no_zero[i]))\n",
    "    \n",
    "    return freq_distrib, outbreak_districts_distrib"
   ]
  },
  {
   "cell_type": "code",
   "execution_count": 205,
   "metadata": {
    "collapsed": true
   },
   "outputs": [],
   "source": [
    "def import_pop_distrib(file_name):\n",
    "    pop_data_sheet = pd.ExcelFile(file_name)\n",
    "    pop_vals = pop_data_sheet.parse().Pop.values\n",
    "    return pop_vals"
   ]
  },
  {
   "cell_type": "code",
   "execution_count": 214,
   "metadata": {
    "collapsed": true
   },
   "outputs": [],
   "source": [
    "# generate cumulative demand distribution\n",
    "# NOTE -- does not yet include adjustment for pre-existing RI coverage\n",
    "def create_demand_distrib(freq_distrib,outbreak_districts_distrib,pop_distrib,target_pop,target_cov,dose_num,excess_stock,simulated_years):\n",
    "    demand_distrib = []\n",
    "    for year in range(simulated_years):\n",
    "        annual_demand = []\n",
    "        freq_val = np.random.choice(freq_distrib)\n",
    "        for outbreak in range(freq_val):\n",
    "            district_count = np.random.choice(outbreak_districts_distrib)\n",
    "            local_pops = []\n",
    "            for district in range(district_count):\n",
    "                local_pops.append(np.random.choice(pop_distrib))\n",
    "            total_local_pop = sum(local_pops)\n",
    "            local_demand = int(total_local_pop*target_pop*target_cov*dose_num*(1+excess_stock))\n",
    "            annual_demand.append(local_demand)\n",
    "        demand_distrib.append(sum(annual_demand))\n",
    "    \n",
    "    return demand_distrib"
   ]
  },
  {
   "cell_type": "markdown",
   "metadata": {},
   "source": [
    "### Import and structure product information; define costs"
   ]
  },
  {
   "cell_type": "code",
   "execution_count": 27,
   "metadata": {
    "collapsed": true
   },
   "outputs": [],
   "source": [
    "def import_price_data(price_file_name):\n",
    "    price_file = pd.ExcelFile(price_file_name)\n",
    "    product_dataset = []\n",
    "    product_types = []\n",
    "\n",
    "    for sheet in price_file.sheet_names:\n",
    "        product_types.append(str(sheet))\n",
    "        sheet_data = [str(sheet),price_file.parse(sheet)]\n",
    "        product_dataset.append(sheet_data)\n",
    "    \n",
    "    return product_dataset, product_types"
   ]
  },
  {
   "cell_type": "code",
   "execution_count": 28,
   "metadata": {
    "collapsed": true
   },
   "outputs": [],
   "source": [
    "def get_prod_arrays(df):\n",
    "    buyvols = df.BuyVol.values\n",
    "    cumbuysums = np.zeros(len(buyvols) + 1)\n",
    "    cumbuysums[1:] = buyvols.cumsum()\n",
    "    prices_buy = df.Price.values\n",
    "    \n",
    "    sellvols = df.SellVol.values\n",
    "    cumsellsums = np.zeros(len(buyvols) + 1)\n",
    "    cumsellsums[1:] = sellvols.cumsum()\n",
    "    vals_sell = df.Resale.values\n",
    "    return buyvols, cumbuysums, prices_buy, sellvols, cumsellsums, vals_sell"
   ]
  },
  {
   "cell_type": "code",
   "execution_count": 29,
   "metadata": {},
   "outputs": [],
   "source": [
    "def prod_array_maker(product_dataset, product_types):\n",
    "    product_arrays = []\n",
    "    for prod in range(len(product_types)):\n",
    "        prod_arr = [0,0,0,0,0,0,0]\n",
    "        prod_arr[0] = product_dataset[prod][0]\n",
    "        prod_arr[1],prod_arr[2],prod_arr[3],prod_arr[4],prod_arr[5],prod_arr[6] = get_prod_arrays(product_dataset[prod][1])\n",
    "        product_arrays.append(prod_arr)\n",
    "    \n",
    "    return product_arrays"
   ]
  },
  {
   "cell_type": "code",
   "execution_count": 9,
   "metadata": {
    "collapsed": true
   },
   "outputs": [],
   "source": [
    "# returns the total cost of product procurement according to volume-dependent pricing model\n",
    "def price_vx_buy_func(p_array, desired_volume):\n",
    "#    assert desired_volume >= 0 , \"Negative desired_volume\"\n",
    "#    assert desired_volume <= cumsums[-1], \"Total volume exceeded\"\n",
    "    buyvols = p_array[1]\n",
    "    cumbuysums = p_array[2]\n",
    "    prices = p_array[3]\n",
    "    \n",
    "    i = int(np.searchsorted(cumbuysums[1:], desired_volume))\n",
    "    cost_buy = np.sum(buyvols[: i] * prices[: i]) + (desired_volume - cumbuysums[i]) * prices[i]\n",
    "    return cost_buy\n",
    "\n",
    "# returns weighted average cost per dose\n",
    "def price_vx_buy_dose(p_array, desired_volume):\n",
    "    total_cost = price_vx_buy_func(p_array, desired_volume)\n",
    "    price_vx_dose = total_cost/desired_volume\n",
    "    return price_vx_dose\n",
    "\n",
    "\n",
    "# returns the total value of resold doses according to volume-dependent pricing model\n",
    "def value_vx_resale_func(p_array, desired_volume):\n",
    "#    assert desired_volume >= 0 , \"Negative desired_volume\"\n",
    "#    assert desired_volume <= cumsums[-1], \"Total volume exceeded\"\n",
    "    sellvols = p_array[4]\n",
    "    cumsellsums = p_array[5]\n",
    "    sellval = p_array[6]\n",
    "    \n",
    "    i = int(np.searchsorted(cumsellsums[1:], desired_volume))\n",
    "    val_resale = np.sum(sellvols[: i] * sellval[: i]) + (desired_volume - cumsellsums[i]) * sellval[i]\n",
    "    return val_resale\n",
    "\n",
    "# returns weighted average resale value per dose\n",
    "def value_vx_resale_dose(p_array, desired_volume):\n",
    "    total_val = value_vx_resale_func(p_array, desired_volume)\n",
    "    val_resale_dose = total_val/desired_volume\n",
    "    return val_resale_dose"
   ]
  },
  {
   "cell_type": "markdown",
   "metadata": {},
   "source": [
    "### Find optimal switch-point when procuring more than one product type"
   ]
  },
  {
   "cell_type": "code",
   "execution_count": 10,
   "metadata": {
    "collapsed": true
   },
   "outputs": [],
   "source": [
    "# returns the probability of using the n-th dose in a stockpile containing n doses over the life of the product\n",
    "def prob_dose_use(stockpile_size,demand_distrib,shelf_life,samples=10000):\n",
    "    trues = 0\n",
    "    for sample in range(samples):\n",
    "        tests = []\n",
    "        for year in range(shelf_life):\n",
    "            tests.append(int(np.random.choice(demand_distrib)))\n",
    "        sample_sum = sum(tests)\n",
    "        if sample_sum >= stockpile_size:\n",
    "            trues += 1\n",
    "    result = trues / samples\n",
    "    return result"
   ]
  },
  {
   "cell_type": "code",
   "execution_count": 11,
   "metadata": {
    "collapsed": true
   },
   "outputs": [],
   "source": [
    "# returns the expected cost of procurement, accounting for likelihood of use versus wastage/resale\n",
    "def exp_cost_dose(stockpile_volume,demand_distrib,shelf_life,p_array):\n",
    "    prob_use = prob_dose_use(stockpile_volume,demand_distrib,shelf_life)\n",
    "    cost_vx_dose = price_vx_buy_dose(p_array,stockpile_volume)*prob_use + (price_vx_buy_dose(p_array,stockpile_volume)-value_vx_resale_dose(p_array,stockpile_volume))*(1-prob_use)\n",
    "    return cost_vx_dose"
   ]
  },
  {
   "cell_type": "code",
   "execution_count": 12,
   "metadata": {
    "collapsed": true
   },
   "outputs": [],
   "source": [
    "# reduces pricing functions into functions of one variable -- prepares for optimization\n",
    "# NOTE: hard-coded variables may require revision for each change of disease/ input dataset\n",
    "def exp_cost_ps(stockpile_volume):\n",
    "    exp_cost_ps = exp_cost_dose(stockpile_volume,values,shelf_life,product_arrays[0])\n",
    "    return exp_cost_ps\n",
    "\n",
    "def exp_cost_conj(stockpile_volume):\n",
    "    exp_cost_conj = exp_cost_dose(stockpile_volume,values,shelf_life,product_arrays[1])\n",
    "    return exp_cost_conj\n",
    "\n",
    "def find_prod_switch_vol(func1,func2,demand):\n",
    "    try:\n",
    "        return brentq(lambda x : func1(x)-func2(x),np.min(demand),np.max(demand))\n",
    "    except ValueError:\n",
    "        return np.max(demand)"
   ]
  },
  {
   "cell_type": "code",
   "execution_count": 13,
   "metadata": {
    "collapsed": true
   },
   "outputs": [],
   "source": [
    "#returns the threshold volume up to which maufacturers require firm commitments\n",
    "def firm_volume(price_data):\n",
    "    num_man = int(len(price_data.columns)/7)\n",
    "    tiers = len(price_data.index)\n",
    "    firm_vols = []\n",
    "    \n",
    "    for man in range(num_man):\n",
    "        man_vol = 0\n",
    "        for tier in range(tiers):\n",
    "            if price_data[price_data.columns[man*5+6]][tier]==1:\n",
    "                man_vol = man_vol + price_data[price_data.columns[man*6]][tier]\n",
    "        firm_vols.append(man_vol)\n",
    "    \n",
    "    firm_volume = np.sum(firm_vols)\n",
    "    return firm_volume"
   ]
  },
  {
   "cell_type": "code",
   "execution_count": 14,
   "metadata": {
    "collapsed": true
   },
   "outputs": [],
   "source": [
    "def find_perc_cutoff(demand,cutoff_vol):\n",
    "    perc_cutoff = len(demand[demand<cutoff_vol])/len(demand)\n",
    "    return perc_cutoff"
   ]
  },
  {
   "cell_type": "markdown",
   "metadata": {},
   "source": [
    "### Manage inventory"
   ]
  },
  {
   "cell_type": "code",
   "execution_count": 15,
   "metadata": {
    "collapsed": true
   },
   "outputs": [],
   "source": [
    "# initialize inventory deque with [shelf-life] number of batches, and [product_types] number of slots per batch\n",
    "# convention: oldest batch listed on top (slot 0), newest on bottom\n",
    "# convention: first product to use (PS) listed on left within each batch (slot 0), second product (Conjugate) on right\n",
    "def inventory_launch(stockpile_size,price_data,shelf_life):\n",
    "    inventory = deque(['' for year in range(shelf_life)],shelf_life)\n",
    "    for year in range(shelf_life):\n",
    "        year_slot = []\n",
    "        for product in range(len(price_data)):\n",
    "            prod_name = price_data[product][0]\n",
    "            prod_slot = [prod_name, 0]\n",
    "            year_slot.append(prod_slot)\n",
    "        inventory[year] = year_slot\n",
    "\n",
    "# assign all initial inventory to newest batch, with split across product types if required\n",
    "    if len(product_dataset) == 1:\n",
    "        inventory[shelf_life-1][0][1] = stockpile_size\n",
    "    elif len(product_dataset) == 2:\n",
    "        if stockpile_size <= prod_switch_vol:\n",
    "            inventory[shelf_life-1][0][1] = stockpile_size\n",
    "        else:\n",
    "            inventory[shelf_life-1][0][1] = prod_switch_vol\n",
    "            inventory[shelf_life-1][1][1] = stockpile_size - prod_switch_vol\n",
    "\n",
    "    return inventory"
   ]
  },
  {
   "cell_type": "code",
   "execution_count": 16,
   "metadata": {
    "collapsed": true
   },
   "outputs": [],
   "source": [
    "# deplete inventory by [demand] amount, using FIFO convention\n",
    "# demand is sampled at random from demand probability distribution\n",
    "def inventory_use(inventory_list,demand,product_types):\n",
    "    inventory = inventory_list\n",
    "    depletion = 0\n",
    "    total_use_record = []\n",
    "    \n",
    "    for product in range(len(product_types)):\n",
    "        product_use_record = [product_types[product],0]\n",
    "        for year in range(len(inventory)):\n",
    "            if inventory[year][product][1] + depletion < demand:\n",
    "                depletion = depletion + inventory[year][product][1]\n",
    "                product_use_record[1] = product_use_record[1] + inventory[year][product][1]\n",
    "                inventory[year][product][1] = 0\n",
    "            elif inventory[year][product][1] + depletion >= demand:\n",
    "                product_use_record[1] = product_use_record[1] + (demand-depletion)\n",
    "                total_use_record.append(product_use_record)\n",
    "                inventory[year][product][1] = inventory[year][product][1] - (demand-depletion)\n",
    "                depletion = demand\n",
    "                break\n",
    "        if depletion < demand:\n",
    "            total_use_record.append(product_use_record)\n",
    "        else:\n",
    "            break\n",
    "        \n",
    "    total_use_vol = 0\n",
    "    for prod in range(len(total_use_record)):\n",
    "        total_use_vol = total_use_vol + total_use_record[prod][1]\n",
    "            \n",
    "    return inventory, total_use_record, total_use_vol"
   ]
  },
  {
   "cell_type": "code",
   "execution_count": 17,
   "metadata": {
    "collapsed": true
   },
   "outputs": [],
   "source": [
    "# clear oldest inventory\n",
    "def inventory_waste(inventory_list):\n",
    "    inventory = inventory_list\n",
    "    if len(inventory) > 0:\n",
    "        wastage = inventory.popleft()\n",
    "    else:\n",
    "        wastage = 0\n",
    "    \n",
    "    return inventory, wastage"
   ]
  },
  {
   "cell_type": "code",
   "execution_count": 18,
   "metadata": {
    "collapsed": true
   },
   "outputs": [],
   "source": [
    "# return total volume of each product type remaining across all batches\n",
    "def inventory_status(inventory_list):\n",
    "    inventory = inventory_list\n",
    "    prod_num = len(product_types)\n",
    "    \n",
    "    status = []\n",
    "    if len(inventory) > 0:\n",
    "        for product in range(prod_num):\n",
    "            name = inventory[0][product][0]\n",
    "            stock = 0\n",
    "            for year in range(len(inventory)):\n",
    "                stock = stock + inventory[year][product][1]\n",
    "            status.append([name, stock])\n",
    "\n",
    "        total_stock = 0\n",
    "        for i in range(len(status)):\n",
    "            total_stock = total_stock + status[i][1]\n",
    "    else:\n",
    "        total_stock = 0\n",
    "    \n",
    "    return status, total_stock"
   ]
  },
  {
   "cell_type": "code",
   "execution_count": 19,
   "metadata": {
    "collapsed": true
   },
   "outputs": [],
   "source": [
    "# move oldest (top) slot down to bottom, and replenish total volume up to [stockpile_size]\n",
    "def inventory_replenish(inventory_list,stockpile_size,product_types):\n",
    "    inventory = inventory_list\n",
    "    status = inventory_status(inventory)\n",
    "    current_stock = status[1]\n",
    "    \n",
    "    if current_stock < stockpile_size:\n",
    "        replenish_need = stockpile_size - current_stock\n",
    "    elif current_stock >= stockpile_size:\n",
    "        replenish_need = 0\n",
    "    \n",
    "    if len(product_types) == 1:\n",
    "        new_stock = [product_types[0],replenish_need]\n",
    "    elif len(product_types) == 2:\n",
    "        if stockpile_size <= prod_switch_vol:\n",
    "            new_stock = [[product_types[0],replenish_need],[product_types[1],0]]\n",
    "        elif stockpile_size > prod_switch_vol:\n",
    "            prod1_gap = prod_switch_vol - status[0][0][1]\n",
    "            if prod1_gap == 0:\n",
    "                new_stock = [[product_types[0],0],[product_types[1],replenish_need]]\n",
    "            elif prod1_gap > 0:\n",
    "                if replenish_need <= prod1_gap:\n",
    "                    new_stock = [[product_types[0],replenish_need],[product_types[1],0]]\n",
    "                elif replenish_need > prod1_gap:\n",
    "                    new_stock = [[product_types[0],prod1_gap],[product_types[1],replenish_need-prod1_gap]]\n",
    "    \n",
    "    inventory.append(new_stock)\n",
    "    return inventory"
   ]
  },
  {
   "cell_type": "markdown",
   "metadata": {
    "collapsed": true
   },
   "source": [
    "### Calculate net-benefit"
   ]
  },
  {
   "cell_type": "code",
   "execution_count": 20,
   "metadata": {
    "collapsed": true
   },
   "outputs": [],
   "source": [
    "def net_value_func(demand,inventory,exp_val_vx,price_data,verbose=False):\n",
    "        \n",
    "    inventory, use_record, total_use = inventory_use(inventory,demand,product_types)\n",
    "    total_benefit = total_use*exp_val_vx\n",
    "    \n",
    "    cost_of_use = 0\n",
    "    for prod in range(len(use_record)):\n",
    "        cost_of_use += price_vx_buy_func(price_data[prod],use_record[prod][1])\n",
    "    \n",
    "    inventory, waste_record = inventory_waste(inventory)\n",
    "    cost_of_waste = 0\n",
    "    for prod in range(len(waste_record)):\n",
    "        cost_of_waste += (price_vx_buy_func(price_data[prod],waste_record[prod][1])-value_vx_resale_func(price_data[prod],waste_record[prod][1]))    \n",
    "    \n",
    "    total_cost = cost_of_use + cost_of_waste    \n",
    "    net_val = total_benefit-total_cost\n",
    "    \n",
    "    if verbose == True:\n",
    "        print('  doses used: ', use_record, 'val_life =', exp_val_vx, 'total benefit = ', total_benefit, 'cost of use = ', cost_of_use)\n",
    "        print('  doses wasted: ', waste_record, 'cost of waste = ', cost_of_waste)\n",
    "    \n",
    "    return net_val, inventory"
   ]
  },
  {
   "cell_type": "code",
   "execution_count": 21,
   "metadata": {
    "collapsed": true
   },
   "outputs": [],
   "source": [
    "def avg_net_value_across_years(stockpile_size,demand_distrib,exp_val_vx,price_data,product_types,shelf_life,years,verbose=False,dummy=False):\n",
    "   \n",
    "    inventory_trckr = inventory_launch(stockpile_size,price_data,shelf_life)\n",
    "    net_val_total = []\n",
    "    \n",
    "    if verbose == True:\n",
    "        print(\"initial:\", inventory_trckr)\n",
    "    \n",
    "    for year in range(years):\n",
    "        if dummy == False:\n",
    "            demand = int(np.random.choice(demand_distrib))\n",
    "        elif dummy == True:\n",
    "            demand = int(np.random.randint(1,20))\n",
    "        if verbose == True:\n",
    "            print(year+1, 'demand:', demand)\n",
    "            \n",
    "        yr_net_val, inventory_trckr = net_value_func(demand,inventory_trckr,exp_val_vx,price_data,verbose)\n",
    "        net_val_total.append(yr_net_val)\n",
    "        if verbose == True:\n",
    "            print('  net value:', yr_net_val)\n",
    "            print('  use + waste:', inventory_trckr)\n",
    "            print('')\n",
    "        \n",
    "        inventory_trckr = inventory_replenish(inventory_trckr,stockpile_size,product_types)\n",
    "        if verbose == True:\n",
    "            print('  replenished:', inventory_trckr)\n",
    "            \n",
    "    avg_net_val = np.mean(net_val_total)\n",
    "    return avg_net_val"
   ]
  },
  {
   "cell_type": "code",
   "execution_count": 22,
   "metadata": {
    "collapsed": true
   },
   "outputs": [],
   "source": [
    "def neg_avg_net_value_across_years(stockpile_size,demand_distrib,exp_val_vx,price_data,product_types,shelf_life,years):\n",
    "    neg_avg_net_val = -1*avg_net_value_across_years(stockpile_size,demand_distrib,exp_val_vx,price_data,product_types,shelf_life,years)\n",
    "    return neg_avg_net_val"
   ]
  },
  {
   "cell_type": "code",
   "execution_count": 218,
   "metadata": {
    "collapsed": true
   },
   "outputs": [],
   "source": [
    "def recommendation_func():\n",
    "    \n",
    "    # WIP -- TO BE COMPLETED\n",
    "    \n",
    "    recommend_stockpile = []\n",
    "    return recommend_stockpile"
   ]
  },
  {
   "cell_type": "markdown",
   "metadata": {},
   "source": [
    "### Plot final distribution"
   ]
  },
  {
   "cell_type": "code",
   "execution_count": 23,
   "metadata": {
    "collapsed": true,
    "scrolled": true
   },
   "outputs": [],
   "source": [
    "def final_plot(demand_distrib, vol_cutoff, perc_cutoff, bins=100, figsize=(10,5)):\n",
    "    total_mean = np.mean(demand_distrib)\n",
    "    \n",
    "    _, ax = plt.subplots(1,1, figsize=figsize)\n",
    "    min_, max_ = np.min(demand_distrib), np.max(demand_distrib)\n",
    "    bar_width = (max_ - min_) / bins\n",
    "    hist, edges = np.histogram(demand_distrib, bins = np.linspace(min_, max_, bins))\n",
    "    \n",
    "    idx = edges[:-1] < vol_cutoff\n",
    "    ax.bar(edges[:-1][idx], height=hist[idx], \n",
    "           width=bar_width,\n",
    "           label='Demand below optimal cutoff', color='green')\n",
    "\n",
    "\n",
    "    idx =  edges[:-1] >= vol_cutoff\n",
    "    ax.bar(edges[:-1][idx], height=hist[idx], \n",
    "           width=bar_width,\n",
    "           label='Demand above optimal cutoff', color='blue')\n",
    "    \n",
    "    ax.vlines(x=total_mean, ymin=0, ymax=ax.get_ybound()[1], linestyles='dashed', \n",
    "              label='Expected value = %.1f' % total_mean)\n",
    "    ax.vlines(x=vol_cutoff, ymin=0, ymax=ax.get_ybound()[1], linestyles='dashed', \n",
    "              label='Cutoff volume = %.1f, Perc = %.1f' % (vol_cutoff,perc_cutoff*100), color='red')\n",
    "    \n",
    "    ax.legend();"
   ]
  },
  {
   "cell_type": "markdown",
   "metadata": {},
   "source": [
    "## Run the model"
   ]
  },
  {
   "cell_type": "markdown",
   "metadata": {},
   "source": [
    "#### Define global variables"
   ]
  },
  {
   "cell_type": "code",
   "execution_count": 193,
   "metadata": {
    "collapsed": true
   },
   "outputs": [],
   "source": [
    "# probability of infection during outbreak\n",
    "infection_prob = 0.005\n",
    "# mortality\n",
    "mort_prob = 0.10\n",
    "# average years lost if infection fatal\n",
    "mort_dalys = 35\n",
    "# morbidity effect of infection (in DALYs lost)\n",
    "morb_dalys = 1\n",
    "# average DALYs lost per infection\n",
    "case_dalys = mort_prob*mort_dalys + (1-mort_prob)*morb_dalys\n",
    "\n",
    "# gdp per capita\n",
    "gdp_per_cap = 400\n",
    "# value per full DALY saved\n",
    "cost_daly = 3 * gdp_per_cap\n",
    "\n",
    "# expected value created by delivering one vaccination\n",
    "exp_val_vx = infection_prob*case_dalys*cost_daly\n",
    "\n",
    "# target population for vaccination -- as share of total population\n",
    "target_pop = 0.65\n",
    "# target coverage rate following vaccination campaign\n",
    "target_cov = 0.95\n",
    "# number of doses required per target individual\n",
    "dose_num = 1\n",
    "# rate of allowance for wastage and buffer stock -- as share of required doses\n",
    "excess_stock = 0.2\n",
    "\n",
    "# specified method for Minimization function\n",
    "opt_method = 'Nelder-Mead'"
   ]
  },
  {
   "cell_type": "code",
   "execution_count": 194,
   "metadata": {
    "collapsed": true
   },
   "outputs": [],
   "source": [
    "disease = 'Meningitis'\n",
    "simulated_years=100000"
   ]
  },
  {
   "cell_type": "code",
   "execution_count": 197,
   "metadata": {
    "collapsed": true
   },
   "outputs": [],
   "source": [
    "freq_file_name = 'Sample_Outbreak_Data.xlsx'\n",
    "pop_file_name = 'Sample_Pop_Data.xlsx'\n",
    "RI_cov_file_name = ''\n",
    "price_file_name = 'MNG_Price_Matrix_Sample.xlsx'\n",
    "\n",
    "shelf_life = 2"
   ]
  },
  {
   "cell_type": "code",
   "execution_count": 215,
   "metadata": {},
   "outputs": [],
   "source": [
    "freq_distrib, outbreak_districts_distrib = import_freq_distrib(freq_file_name)\n",
    "pop_distrib = import_pop_distrib(pop_file_name)\n",
    "#RI_cov_dist = import_RI_distrib(RI_cov_file_name)\n",
    "\n",
    "demand_distrib = create_demand_distrib(freq_distrib,outbreak_districts_distrib,pop_distrib,target_pop,target_cov,dose_num,excess_stock,simulated_years)"
   ]
  },
  {
   "cell_type": "code",
   "execution_count": 31,
   "metadata": {},
   "outputs": [],
   "source": [
    "product_dataset, product_types = import_price_data(price_file_name)\n",
    "product_arrays = prod_array_maker(product_dataset, product_types)"
   ]
  },
  {
   "cell_type": "code",
   "execution_count": 32,
   "metadata": {},
   "outputs": [],
   "source": [
    "prod_switch_vol = int(find_prod_switch_vol(exp_cost_conj,exp_cost_ps,demand_distrib))\n",
    "prod_switch_perc = find_perc_cutoff(demand_distrib,prod_switch_vol)\n",
    "min_commitments = [[product_dataset[product][0], firm_volume(product_dataset[product][1])] for product in range(len(product_dataset))]"
   ]
  },
  {
   "cell_type": "code",
   "execution_count": null,
   "metadata": {},
   "outputs": [],
   "source": [
    "result = minimize(neg_avg_net_value_across_years,3200000,args=(demand_distrib,exp_val_vx,product_arrays,product_types,shelf_life,5000),method=opt_method,tol=1e-8)\n",
    "cutoff_vol = result.x[0]\n",
    "cutoff_perc = find_perc_cutoff(demand_distrib,cutoff_vol)\n",
    "\n",
    "optimal_stockpile = recommendation_func()"
   ]
  },
  {
   "cell_type": "code",
   "execution_count": 208,
   "metadata": {
    "scrolled": true
   },
   "outputs": [
    {
     "data": {
      "image/png": "[encoded data removed]",
      "text/plain": [
       "<matplotlib.figure.Figure at 0x11daf1d0>"
      ]
     },
     "metadata": {},
     "output_type": "display_data"
    }
   ],
   "source": [
    "final_plot(demand_dist, cutoff_vol, cutoff_perc)"
   ]
  },
  {
   "cell_type": "code",
   "execution_count": null,
   "metadata": {},
   "outputs": [],
   "source": [
    "percentiles = [50,75,90,95,99]\n",
    "demand_results = [int(np.percentile(demand_distrib,perc)) for perc in percentiles]\n",
    "\n",
    "stockpile_results = [disease, cutoff_vol, cutoff_perc, optimal_stockpile]"
   ]
  },
  {
   "cell_type": "code",
   "execution_count": null,
   "metadata": {
    "collapsed": true
   },
   "outputs": [],
   "source": []
  }
 ],
 "metadata": {
  "kernelspec": {
   "display_name": "Python 2",
   "language": "python",
   "name": "python2"
  },
  "language_info": {
   "codemirror_mode": {
    "name": "ipython",
    "version": 2
   },
   "file_extension": ".py",
   "mimetype": "text/x-python",
   "name": "python",
   "nbconvert_exporter": "python",
   "pygments_lexer": "ipython2",
   "version": "2.7.14"
  },
  "toc": {
   "base_numbering": 1,
   "nav_menu": {},
   "number_sections": true,
   "sideBar": true,
   "skip_h1_title": false,
   "title_cell": "Table of Contents",
   "title_sidebar": "Contents",
   "toc_cell": false,
   "toc_position": {},
   "toc_section_display": true,
   "toc_window_display": true
  }
 },
 "nbformat": 4,
 "nbformat_minor": 2
}
